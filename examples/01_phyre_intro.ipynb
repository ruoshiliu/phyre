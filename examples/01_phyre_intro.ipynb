{
 "cells": [
  {
   "cell_type": "markdown",
   "metadata": {},
   "source": [
    "# Introduction to PHYRE\n",
    "\n",
    "PHYRE consists of an environment, a two-dimensional world with Newtonian physics, and a set of tasks.\n",
    "Each task consists of an initial scene with some geometric bodies and a goal condition that should be satisified.\n",
    "An agent can introduce one or two extra objects into a scene. Once done, the agent request of sumulation of scene.\n",
    "The task is considered to be **solved**, if after the simulation the goal condition is satisfied.\n",
    "\n",
    "The image below shows three different tasks (on the left) and result of simulation with a ball introduced into the scene. Note that in the current version of the dataset all tasks have the same goal: a pair of colored object (blue, green, or purple) should touch each other.\n",
    "\n",
    "\n",
    "This notebook shows how to use the ```phyre``` API to interact with the environment and tasks and how to train a simple random agent.\n",
    "\n",
    "![PHYRE tasks](../imgs/task_example.png \"PHYRE tasks and simulation example\")\n",
    "\n"
   ]
  },
  {
   "cell_type": "markdown",
   "metadata": {},
   "source": [
    "### Run this in colab\n",
    "You can open and play with this notebook in colab. \n",
    "<a href=\"https://colab.research.google.com/github/facebookresearch/phyre/blob/master/examples/01_phyre_intro.ipynb\" target=\"_parent\">Open In Colab</a>"
   ]
  },
  {
   "cell_type": "code",
   "execution_count": 1,
   "metadata": {},
   "outputs": [],
   "source": [
    "# Install phyre and auxiliary packages.\n",
    "# !pip install phyre matplotlib tqdm ipywidgets"
   ]
  },
  {
   "cell_type": "code",
   "execution_count": 2,
   "metadata": {},
   "outputs": [],
   "source": [
    "import math\n",
    "import random\n",
    "from pathlib import Path\n",
    "import matplotlib.pyplot as plt\n",
    "from tqdm import tqdm_notebook\n",
    "import numpy as np\n",
    "import phyre"
   ]
  },
  {
   "cell_type": "markdown",
   "metadata": {},
   "source": [
    "# Part 1: Introduction to PHYRE simulator\n",
    "\n",
    "\n",
    "As described in the [PHYRE paper](https://arxiv.org/abs/1908.05656), the dataset consists consists of two groups of tasks referred to as **tiers**.\n",
    "Currently we have two tiers: `ball` and `two_balls`. Tasks in the former tier are guaranteed to be solvable with a single ball, i.e., a goal condition could be satisfied at the end of simulation if a ball of right size is introduced at a right location. Naturally, tasks in the latter tier require two balls.\n",
    "\n",
    "Within each tier tasks are grouped in **task templates**. Each template consists of 100 conceptually similar modifications. The image below shows some examples of tasks from different templates and from the same template.\n",
    "\n",
    "![PHYRE tasks](../imgs/cross_within.png \"PHYRE tasks and templates\")\n"
   ]
  },
  {
   "cell_type": "markdown",
   "metadata": {},
   "source": [
    "## Eval setups\n",
    "\n",
    "We can measure two types of generalization: within template and cross template.\n",
    "This could be done for both tiers resulting in four **eval setups**.\n",
    "Each eval setup defines which tasks to use for training, validation and testing. One can access the list of eval setups using `phyre.MAIN_EVAL_SETUPS`."
   ]
  },
  {
   "cell_type": "code",
   "execution_count": 3,
   "metadata": {},
   "outputs": [
    {
     "name": "stdout",
     "output_type": "stream",
     "text": [
      "All eval setups: ball_cross_template ball_within_template two_balls_cross_template two_balls_within_template\n"
     ]
    }
   ],
   "source": [
    "print('All eval setups:', *phyre.MAIN_EVAL_SETUPS)\n",
    "# For now, let's select cross template for ball tier.\n",
    "eval_setup = 'ball_within_template'"
   ]
  },
  {
   "cell_type": "markdown",
   "metadata": {},
   "source": [
    "For any type of generalization we can build multiple splits intro train, dev, and test. Moreover, different splits will have different complexity. Due to that reason we recommend to use 10 folds to report results (see paper for details). Here, we will a single fold."
   ]
  },
  {
   "cell_type": "code",
   "execution_count": 4,
   "metadata": {},
   "outputs": [
    {
     "name": "stdout",
     "output_type": "stream",
     "text": [
      "Size of resulting splits:\n",
      " train: 1600 \n",
      " dev: 400 \n",
      " test: 500\n"
     ]
    }
   ],
   "source": [
    "fold_id = 1  # For simplicity, we will just use one fold for evaluation.\n",
    "train_tasks, dev_tasks, test_tasks = phyre.get_fold(eval_setup, fold_id)\n",
    "print('Size of resulting splits:\\n train:', len(train_tasks), '\\n dev:',\n",
    "      len(dev_tasks), '\\n test:', len(test_tasks))"
   ]
  },
  {
   "cell_type": "code",
   "execution_count": 5,
   "metadata": {},
   "outputs": [],
   "source": [
    "rl_tasks = ()\n",
    "for i in range(0, 100):\n",
    "    rl_tasks = rl_tasks + ('00902:%0.3d' % i,)"
   ]
  },
  {
   "cell_type": "code",
   "execution_count": 6,
   "metadata": {},
   "outputs": [
    {
     "name": "stdout",
     "output_type": "stream",
     "text": [
      "00000:013, 00000:016, 00000:034, 00000:042, 00000:044, 00000:046, 00000:052, 00000:056, 00000:060, 00000:062\n"
     ]
    }
   ],
   "source": [
    "print(*dev_tasks[:10], sep=', ')"
   ]
  },
  {
   "cell_type": "markdown",
   "metadata": {},
   "source": [
    "We can see a task instance using a player, e.g., http://player.phyre.ai/#/task/00110:007\n",
    "\n",
    "Also, you can run a server locally using `phyre -m phyre.server`."
   ]
  },
  {
   "cell_type": "markdown",
   "metadata": {},
   "source": [
    "## Action simulator\n",
    "\n",
    "In a nutshell, ActionSimulator does two things:\n",
    "\n",
    "  * Returns observations for a task.\n",
    "  * Runs a simulation for a task and an action.\n",
    "\n",
    "Action space depends on the eval setup as we have different degrees of freedom for a single ball vs two balls. Therefore, we define two action tiers that define the set of allowed action and their mapping to scene objects.\n",
    "Naturally, name of the action tier matches the name of the task tier. To get it from eval setup name, use `phyre.eval_setup_to_action_space`."
   ]
  },
  {
   "cell_type": "code",
   "execution_count": 7,
   "metadata": {},
   "outputs": [
    {
     "name": "stdout",
     "output_type": "stream",
     "text": [
      "Action tier for ball_within_template is ball\n"
     ]
    }
   ],
   "source": [
    "action_tier = phyre.eval_setup_to_action_tier(eval_setup)\n",
    "print('Action tier for', eval_setup, 'is', action_tier)"
   ]
  },
  {
   "cell_type": "code",
   "execution_count": 8,
   "metadata": {},
   "outputs": [
    {
     "data": {
      "text/plain": [
       "PosixPath('/Users/ruoshiliu/anaconda3/envs/phyre/lib/python3.6/site-packages/phyre/data/generated_tasks')"
      ]
     },
     "execution_count": 8,
     "metadata": {},
     "output_type": "execute_result"
    }
   ],
   "source": [
    "phyre.settings.DATA_DIR / 'generated_tasks'"
   ]
  },
  {
   "cell_type": "code",
   "execution_count": 9,
   "metadata": {},
   "outputs": [],
   "source": [
    "phyre.settings.TASK_DIR = Path('/Users/ruoshiliu/Desktop/OneDrive/custom_tests')\n",
    "phyre.settings.TASK_PICKLE_NAME = Path('tasks_902.bin.lzma')"
   ]
  },
  {
   "cell_type": "code",
   "execution_count": 10,
   "metadata": {},
   "outputs": [
    {
     "data": {
      "text/plain": [
       "PosixPath('/Users/ruoshiliu/Desktop/OneDrive/custom_tests')"
      ]
     },
     "execution_count": 10,
     "metadata": {},
     "output_type": "execute_result"
    }
   ],
   "source": [
    "phyre.settings.TASK_DIR"
   ]
  },
  {
   "cell_type": "markdown",
   "metadata": {},
   "source": [
    "With an action tier and a set of tasks, we can build a simulator using `phyre.initialize_simulator`. For simplicity, we'll use the first 50 items from the dev split."
   ]
  },
  {
   "cell_type": "code",
   "execution_count": 11,
   "metadata": {},
   "outputs": [],
   "source": [
    "tasks = rl_tasks\n",
    "\n",
    "# Create the simulator from the tasks and tier.\n",
    "simulator = phyre.initialize_simulator(tasks, action_tier)"
   ]
  },
  {
   "cell_type": "code",
   "execution_count": 12,
   "metadata": {},
   "outputs": [
    {
     "name": "stdout",
     "output_type": "stream",
     "text": [
      "/Users/ruoshiliu/Desktop/OneDrive/custom_tests/tasks_902.bin.lzma\n"
     ]
    }
   ],
   "source": [
    "print(phyre.settings.TASK_DIR / phyre.settings.TASK_PICKLE_NAME)"
   ]
  },
  {
   "cell_type": "markdown",
   "metadata": {},
   "source": [
    "#### Observations\n",
    "\n",
    "Given a simulator one can get access to the observations, e.g., the initial scene. Each observation a 2d integer array of size `phyre.SCENE_HEIGHT X phyre.SCENE_WIDTH`, i.e., `256x256`. Different values correspond to different object roles, e.g., background, default static object, static objects involved in goal condition, etc. The mapping is not a part of the public interface as we assume that the agents will learn the coding naturally. Alternatively, we provide `phyre.observations_to_float_rgb` function to map observations into RGB image."
   ]
  },
  {
   "cell_type": "code",
   "execution_count": 17,
   "metadata": {},
   "outputs": [
    {
     "name": "stdout",
     "output_type": "stream",
     "text": [
      "Initial scene shape=(256, 256) dtype=int64\n"
     ]
    },
    {
     "data": {
      "image/png": "[encoded data removed]",
      "text/plain": [
       "<Figure size 432x288 with 1 Axes>"
      ]
     },
     "metadata": {
      "needs_background": "light"
     },
     "output_type": "display_data"
    }
   ],
   "source": [
    "task_index = 25  # Note, this is a integer index of task within simulator.task_ids.\n",
    "task_id = simulator.task_ids[task_index]\n",
    "initial_scene = simulator.initial_scenes[task_index]\n",
    "print('Initial scene shape=%s dtype=%s' % (initial_scene.shape, initial_scene.dtype))\n",
    "plt.imshow(phyre.observations_to_float_rgb(initial_scene))\n",
    "plt.title(f'Task {task_id}');"
   ]
  },
  {
   "cell_type": "markdown",
   "metadata": {},
   "source": [
    "#### Simulation\n",
    "\n",
    "The action space is always a unit cube, but the dimension depends on the action tier. For the ball tier, the dimensionality of the action space is 3, corresponding to the (x,y) position of the ball and its radius r. For two ball tiers the dimension is 6."
   ]
  },
  {
   "cell_type": "code",
   "execution_count": 18,
   "metadata": {},
   "outputs": [
    {
     "name": "stdout",
     "output_type": "stream",
     "text": [
      "Dimension of the action space: 3\n"
     ]
    }
   ],
   "source": [
    "print('Dimension of the action space:', simulator.action_space_dim)"
   ]
  },
  {
   "cell_type": "markdown",
   "metadata": {},
   "source": [
    "We can also use the simulator to sample a fixed set of random actions from the action space using `build_discrete_action_space`. The function samples actions uniformly from the action cube skipping invalid ones. The set is guaranteed to be deterministic."
   ]
  },
  {
   "cell_type": "code",
   "execution_count": 19,
   "metadata": {},
   "outputs": [
    {
     "name": "stdout",
     "output_type": "stream",
     "text": [
      "A random action: [0.67046751 0.4173048  0.55868983]\n"
     ]
    }
   ],
   "source": [
    "actions = simulator.build_discrete_action_space(max_actions=100)\n",
    "print('A random action:', actions[5])"
   ]
  },
  {
   "cell_type": "markdown",
   "metadata": {},
   "source": [
    "Now that we have an action, we can use the simulator to simulate it. Let's simulate it on the first task instance in our dataset. The simulator returns a **status** of the simulation (`phyre.SimulationStatus`) and intermediate observations."
   ]
  },
  {
   "cell_type": "code",
   "execution_count": 20,
   "metadata": {},
   "outputs": [
    {
     "name": "stdout",
     "output_type": "stream",
     "text": [
      "Action solves task: SimulationStatus.SOLVED\n",
      "Action does not solve task: SimulationStatus.NOT_SOLVED\n",
      "Action is an invalid input on task (e.g., occludes a task object): SimulationStatus.INVALID_INPUT\n",
      "\n",
      "Result of taking action [0.08147396 0.42861883 0.10901876] on task 00902:060 is: SimulationStatus.SOLVED\n",
      "Does [0.08147396 0.42861883 0.10901876] solve task 00902:060 ? True\n",
      "Is [0.08147396 0.42861883 0.10901876] an invalid action on task 00902:060 ? False\n"
     ]
    }
   ],
   "source": [
    "task_index = 60  # The simulator takes an index into simulator.task_ids.\n",
    "action = random.choice(actions)\n",
    "# Set need_images=False to speed up simulation, when only statuses are needed.\n",
    "status, images = simulator.simulate_single(task_index, action, need_images=True)\n",
    "# Three statuses could be returned.\n",
    "print('Action solves task:', phyre.SimulationStatus.SOLVED)\n",
    "print('Action does not solve task:', phyre.SimulationStatus.NOT_SOLVED)\n",
    "print('Action is an invalid input on task (e.g., occludes a task object):',\n",
    "      phyre.SimulationStatus.INVALID_INPUT)\n",
    "# May call is_* methods on the status to check the status.\n",
    "print()\n",
    "print('Result of taking action', action, 'on task', tasks[task_index], 'is:',\n",
    "      status)\n",
    "print('Does', action, 'solve task', tasks[task_index], '?', status.is_solved())\n",
    "print('Is', action, 'an invalid action on task', tasks[task_index], '?',\n",
    "      status.is_invalid())"
   ]
  },
  {
   "cell_type": "markdown",
   "metadata": {},
   "source": [
    "The simulator also returns a series of observations from the simulation at different timesteps. The observations are taken every second during the simulation."
   ]
  },
  {
   "cell_type": "code",
   "execution_count": 21,
   "metadata": {},
   "outputs": [
    {
     "name": "stdout",
     "output_type": "stream",
     "text": [
      "Number of observations returned by simulator: 7\n"
     ]
    },
    {
     "data": {
      "image/png": "[encoded data removed]",
      "text/plain": [
       "<Figure size 1440x1080 with 10 Axes>"
      ]
     },
     "metadata": {
      "needs_background": "light"
     },
     "output_type": "display_data"
    }
   ],
   "source": [
    "%matplotlib inline\n",
    "print('Number of observations returned by simulator:', len(images))\n",
    "\n",
    "num_across = 5\n",
    "height = int(math.ceil(len(images) / num_across))\n",
    "fig, axs = plt.subplots(height, num_across, figsize=(20, 15))\n",
    "fig.tight_layout()\n",
    "plt.subplots_adjust(hspace=0.2, wspace=0.2)\n",
    "\n",
    "# We can visualize the simulation at each timestep.\n",
    "for i, (ax, image) in enumerate(zip(axs.flatten(), images)):\n",
    "    # Convert the simulation observation to images.\n",
    "    img = phyre.observations_to_float_rgb(image)\n",
    "    ax.imshow(img)\n",
    "    ax.title.set_text(f'Timestep {i}')\n",
    "    ax.get_xaxis().set_ticks([])\n",
    "    ax.get_yaxis().set_ticks([])"
   ]
  },
  {
   "cell_type": "markdown",
   "metadata": {},
   "source": [
    "Let's visualize the final state for an action that doesn't solve the task."
   ]
  },
  {
   "cell_type": "code",
   "execution_count": 22,
   "metadata": {},
   "outputs": [
    {
     "ename": "AssertionError",
     "evalue": "",
     "output_type": "error",
     "traceback": [
      "\u001b[0;31m---------------------------------------------------------------------------\u001b[0m",
      "\u001b[0;31mAssertionError\u001b[0m                            Traceback (most recent call last)",
      "\u001b[0;32m<ipython-input-22-a378e33d276e>\u001b[0m in \u001b[0;36m<module>\u001b[0;34m\u001b[0m\n\u001b[1;32m      2\u001b[0m \u001b[0mbad_action\u001b[0m \u001b[0;34m=\u001b[0m \u001b[0mactions\u001b[0m\u001b[0;34m[\u001b[0m\u001b[0;36m0\u001b[0m\u001b[0;34m]\u001b[0m\u001b[0;34m\u001b[0m\u001b[0;34m\u001b[0m\u001b[0m\n\u001b[1;32m      3\u001b[0m \u001b[0mstatus\u001b[0m\u001b[0;34m,\u001b[0m \u001b[0mimages\u001b[0m \u001b[0;34m=\u001b[0m \u001b[0msimulator\u001b[0m\u001b[0;34m.\u001b[0m\u001b[0msimulate_single\u001b[0m\u001b[0;34m(\u001b[0m\u001b[0mtask_index\u001b[0m\u001b[0;34m,\u001b[0m \u001b[0mbad_action\u001b[0m\u001b[0;34m,\u001b[0m \u001b[0mneed_images\u001b[0m\u001b[0;34m=\u001b[0m\u001b[0;32mTrue\u001b[0m\u001b[0;34m)\u001b[0m\u001b[0;34m\u001b[0m\u001b[0;34m\u001b[0m\u001b[0m\n\u001b[0;32m----> 4\u001b[0;31m \u001b[0;32massert\u001b[0m \u001b[0mstatus\u001b[0m\u001b[0;34m.\u001b[0m\u001b[0mis_not_solved\u001b[0m\u001b[0;34m(\u001b[0m\u001b[0;34m)\u001b[0m\u001b[0;34m\u001b[0m\u001b[0;34m\u001b[0m\u001b[0m\n\u001b[0m\u001b[1;32m      5\u001b[0m \u001b[0;34m\u001b[0m\u001b[0m\n\u001b[1;32m      6\u001b[0m \u001b[0;31m# Get the start and end state of the simulation.\u001b[0m\u001b[0;34m\u001b[0m\u001b[0;34m\u001b[0m\u001b[0;34m\u001b[0m\u001b[0m\n",
      "\u001b[0;31mAssertionError\u001b[0m: "
     ]
    }
   ],
   "source": [
    "target_status = phyre.SimulationStatus.NOT_SOLVED if status == phyre.SimulationStatus.SOLVED else phyre.SimulationStatus.SOLVED\n",
    "bad_action = actions[0]\n",
    "status, images = simulator.simulate_single(task_index, bad_action, need_images=True)\n",
    "assert status.is_not_solved()\n",
    "\n",
    "# Get the start and end state of the simulation.\n",
    "img_start = phyre.vis.observations_to_float_rgb(images[0])\n",
    "img_end = phyre.vis.observations_to_float_rgb(images[-1])\n",
    "\n",
    "# Visualize.\n",
    "fig, axs = plt.subplots(1, 2, figsize=(7, 7))\n",
    "fig.tight_layout()\n",
    "plt.subplots_adjust(hspace=0.4, wspace=0.3)\n",
    "axs[0].imshow(img_start)\n",
    "axs[0].title.set_text(f'Start state\\nAction solves task: {status.is_solved()}')\n",
    "axs[0].get_xaxis().set_ticks([])\n",
    "axs[0].get_yaxis().set_ticks([])\n",
    "\n",
    "axs[1].imshow(img_end)\n",
    "axs[1].title.set_text(f'End state\\nAction solves task: {status.is_solved()}')\n",
    "axs[1].get_xaxis().set_ticks([])\n",
    "axs[1].get_yaxis().set_ticks([]);\n"
   ]
  },
  {
   "cell_type": "markdown",
   "metadata": {},
   "source": [
    "# Part 2: Random Agent\n",
    "We now build our agent. We will build the simplest agent possible: an agent that each attempt makes a random (but valid) action."
   ]
  },
  {
   "cell_type": "code",
   "execution_count": 32,
   "metadata": {},
   "outputs": [],
   "source": [
    "# We define the evaluation of this agent on a given dataset split as follows:\n",
    "\n",
    "\n",
    "def evaluate_random_agent(tasks, tier):\n",
    "    \"\"\"Evaluates the random agent on the given tasks/tier.\n",
    "\n",
    "    Args:\n",
    "        tasks: A list of task instances (strings) in the split to evaluate.\n",
    "        tier: A string of the action tier.\n",
    "\n",
    "    Returns:\n",
    "        A Evaluator object updated with the results of all the siulations.\n",
    "    \"\"\"\n",
    "\n",
    "    # Create a simulator for the task and tier.\n",
    "    simulator = phyre.initialize_simulator(tasks, tier)\n",
    "    evaluator = phyre.Evaluator(tasks)\n",
    "    assert tuple(tasks) == simulator.task_ids\n",
    "    for task_index in tqdm_notebook(range(len(tasks)), desc='Evaluate tasks'):\n",
    "        while evaluator.get_attempts_for_task(\n",
    "                task_index) < phyre.MAX_TEST_ATTEMPTS:\n",
    "            # Sample a random valid action from the simulator for the given action space.\n",
    "#             action = simulator.sample()\n",
    "            action = np.array([0.01,0.01,0.01])\n",
    "#             action = phyre.action_mappers.EMPTY_USER_INPUT\n",
    "            # Simulate the given action and add the status from taking the action to the evaluator.\n",
    "            status, _ = simulator.simulate_single(task_index,\n",
    "                                                  action,\n",
    "                                                  need_images=True)\n",
    "            \n",
    "            evaluator.maybe_log_attempt(task_index, status)\n",
    "    return evaluator"
   ]
  },
  {
   "cell_type": "code",
   "execution_count": 33,
   "metadata": {},
   "outputs": [
    {
     "data": {
      "text/plain": [
       "array([0.08147396, 0.42861883, 0.10901876])"
      ]
     },
     "execution_count": 33,
     "metadata": {},
     "output_type": "execute_result"
    }
   ],
   "source": [
    "action"
   ]
  },
  {
   "cell_type": "markdown",
   "metadata": {},
   "source": [
    "Let's evaluate our agent on the dev set (for performance)."
   ]
  },
  {
   "cell_type": "code",
   "execution_count": 35,
   "metadata": {},
   "outputs": [
    {
     "data": {
      "application/vnd.jupyter.widget-view+json": {
       "model_id": "f7a18aff683f41ce897e930410a44cf5",
       "version_major": 2,
       "version_minor": 0
      },
      "text/plain": [
       "HBox(children=(IntProgress(value=0, description='Evaluate tasks', style=ProgressStyle(description_width='initi…"
      ]
     },
     "metadata": {},
     "output_type": "display_data"
    },
    {
     "name": "stdout",
     "output_type": "stream",
     "text": [
      "\n"
     ]
    }
   ],
   "source": [
    "# NOTE: Evaluating this agent can take ~1.5 minutes.\n",
    "evaluator = evaluate_random_agent(tasks, action_tier)"
   ]
  },
  {
   "cell_type": "markdown",
   "metadata": {},
   "source": [
    "The metric used to compare the performance of agents is AUCESS after 100 attempts. See the PHYRE paper for more details on the AUCESS metric."
   ]
  },
  {
   "cell_type": "code",
   "execution_count": 36,
   "metadata": {},
   "outputs": [
    {
     "name": "stdout",
     "output_type": "stream",
     "text": [
      "AUCESS after 100 attempts of random agent on rl_test set 0.47999999999999976\n"
     ]
    }
   ],
   "source": [
    "print('AUCESS after 100 attempts of random agent on rl_test set',\n",
    "      evaluator.get_aucess())"
   ]
  },
  {
   "cell_type": "code",
   "execution_count": null,
   "metadata": {},
   "outputs": [],
   "source": []
  }
 ],
 "metadata": {
  "jupytext": {
   "formats": "ipynb,py:light",
   "main_language": "python",
   "notebook_metadata_filter": "jupytext,-kernelspec"
  },
  "kernelspec": {
   "display_name": "Python 3",
   "language": "python",
   "name": "python3"
  },
  "language_info": {
   "codemirror_mode": {
    "name": "ipython",
    "version": 3
   },
   "file_extension": ".py",
   "mimetype": "text/x-python",
   "name": "python",
   "nbconvert_exporter": "python",
   "pygments_lexer": "ipython3",
   "version": "3.6.9"
  }
 },
 "nbformat": 4,
 "nbformat_minor": 2
}
